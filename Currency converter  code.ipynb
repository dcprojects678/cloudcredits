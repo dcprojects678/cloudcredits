{
  "nbformat": 4,
  "nbformat_minor": 0,
  "metadata": {
    "colab": {
      "provenance": []
    },
    "kernelspec": {
      "name": "python3",
      "display_name": "Python 3"
    },
    "language_info": {
      "name": "python"
    }
  },
  "cells": [
    {
      "cell_type": "code",
      "execution_count": null,
      "metadata": {
        "colab": {
          "base_uri": "https://localhost:8080/"
        },
        "id": "ppPSdYlNKKup",
        "outputId": "968e11b2-5d39-4612-b1c2-8e51a84043f2"
      },
      "outputs": [
        {
          "output_type": "stream",
          "name": "stdout",
          "text": [
            "Fetching latest exchange rates...\n"
          ]
        }
      ],
      "source": [
        "# Step 1: Import necessary libraries\n",
        "import requests\n",
        "\n",
        "# Step 2: Define function to get exchange rates\n",
        "def get_exchange_rates(base_currency='USD'):\n",
        "    url = f'https://api.exchangerate-api.com/v4/latest/{base_currency}'\n",
        "    response = requests.get(url)\n",
        "\n",
        "    if response.status_code != 200:\n",
        "        raise Exception(\"Error fetching exchange rates.\")\n",
        "\n",
        "    data = response.json()\n",
        "    return data['rates']\n",
        "\n",
        "# Step 3: Define currency conversion function\n",
        "def convert_currency(amount, from_currency, to_currency, rates):\n",
        "    from_currency = from_currency.upper()\n",
        "    to_currency = to_currency.upper()\n",
        "\n",
        "    if from_currency not in rates or to_currency not in rates:\n",
        "        raise ValueError(\"Invalid currency code.\")\n",
        "\n",
        "    # Convert from base currency to USD, then to target\n",
        "    usd_amount = amount / rates[from_currency]\n",
        "    converted = usd_amount * rates[to_currency]\n",
        "    return round(converted, 2)\n",
        "\n",
        "# Step 4: User input\n",
        "try:\n",
        "    print(\"Fetching latest exchange rates...\")\n",
        "    rates = get_exchange_rates('USD')  # You can change base currency if needed\n",
        "\n",
        "    amount = float(input(\"Enter amount: \"))\n",
        "    from_curr = input(\"From currency (e.g. USD, EUR, INR): \").strip()\n",
        "    to_curr = input(\"To currency (e.g. USD, EUR, INR): \").strip()\n",
        "\n",
        "    result = convert_currency(amount, from_curr, to_curr, rates)\n",
        "    print(f\"\\n💱 {amount} {from_curr.upper()} = {result} {to_curr.upper()}\")\n",
        "except Exception as e:\n",
        "    print(\"❌ Error:\", e)"
      ]
    }
  ]
}