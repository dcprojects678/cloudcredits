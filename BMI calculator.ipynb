{
  "nbformat": 4,
  "nbformat_minor": 0,
  "metadata": {
    "colab": {
      "provenance": []
    },
    "kernelspec": {
      "name": "python3",
      "display_name": "Python 3"
    },
    "language_info": {
      "name": "python"
    }
  },
  "cells": [
    {
      "cell_type": "code",
      "execution_count": null,
      "metadata": {
        "id": "R48oQPbnLrIz"
      },
      "outputs": [],
      "source": [
        "# Step 1: Function to convert units\n",
        "def convert_height_to_meters(height, unit):\n",
        "    if unit.lower() == \"feet\":\n",
        "        return height * 0.3048\n",
        "    elif unit.lower() == \"meters\":\n",
        "        return height\n",
        "    else:\n",
        "        raise ValueError(\"Invalid height unit. Use 'meters' or 'feet'.\")\n",
        "\n",
        "def convert_weight_to_kg(weight, unit):\n",
        "    if unit.lower() == \"lbs\":\n",
        "        return weight * 0.453592\n",
        "    elif unit.lower() == \"kg\":\n",
        "        return weight\n",
        "    else:\n",
        "        raise ValueError(\"Invalid weight unit. Use 'kg' or 'lbs'.\")\n",
        "\n",
        "# Step 2: Function to calculate BMI\n",
        "def calculate_bmi(weight_kg, height_m):\n",
        "    bmi = weight_kg / (height_m ** 2)\n",
        "    return round(bmi, 2)\n",
        "\n",
        "# Step 3: Function to interpret BMI\n",
        "def interpret_bmi(bmi):\n",
        "    if bmi < 18.5:\n",
        "        return \"Underweight 😟\"\n",
        "    elif 18.5 <= bmi < 24.9:\n",
        "        return \"Normal weight 🙂\"\n",
        "    elif 25 <= bmi < 29.9:\n",
        "        return \"Overweight 😐\"\n",
        "    else:\n",
        "        return \"Obese 😟\"\n",
        "\n",
        "# Step 4: Main user input and output\n",
        "try:\n",
        "    height = float(input(\"Enter your height: \"))\n",
        "    height_unit = input(\"Is the height in 'meters' or 'feet'? \").strip().lower()\n",
        "\n",
        "    weight = float(input(\"Enter your weight: \"))\n",
        "    weight_unit = input(\"Is the weight in 'kg' or 'lbs'? \").strip().lower()\n",
        "\n",
        "    # Convert inputs\n",
        "    height_m = convert_height_to_meters(height, height_unit)\n",
        "    weight_kg = convert_weight_to_kg(weight, weight_unit)\n",
        "\n",
        "    # Calculate BMI\n",
        "    bmi = calculate_bmi(weight_kg, height_m)\n",
        "    category = interpret_bmi(bmi)\n",
        "\n",
        "    # Display result\n",
        "    print(f\"\\nYour BMI is: {bmi}\")\n",
        "    print(f\"Category: {category}\")\n",
        "\n",
        "except Exception as e:\n",
        "    print(\"❌ Error:\", e)"
      ]
    }
  ]
}