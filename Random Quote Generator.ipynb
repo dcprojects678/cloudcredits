{
  "nbformat": 4,
  "nbformat_minor": 0,
  "metadata": {
    "colab": {
      "provenance": []
    },
    "kernelspec": {
      "name": "python3",
      "display_name": "Python 3"
    },
    "language_info": {
      "name": "python"
    }
  },
  "cells": [
    {
      "cell_type": "code",
      "execution_count": null,
      "metadata": {
        "id": "IjXIuveALUz1"
      },
      "outputs": [],
      "source": [
        "import requests\n",
        "\n",
        "def generate_quote():\n",
        "    response = requests.get(\"https://zenquotes.io/api/random\")\n",
        "    if response.status_code == 200:\n",
        "        data = response.json()\n",
        "        quote = data[0]['q']\n",
        "        author = data[0]['a']\n",
        "\n",
        "        return f'{quote} - {author}'\n",
        "\n",
        "    else:\n",
        "        return 'Failed to fetch a quote'\n",
        "\n",
        "print(generate_quote())"
      ]
    }
  ]
}