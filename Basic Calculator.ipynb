{
  "nbformat": 4,
  "nbformat_minor": 0,
  "metadata": {
    "colab": {
      "provenance": []
    },
    "kernelspec": {
      "name": "python3",
      "display_name": "Python 3"
    },
    "language_info": {
      "name": "python"
    }
  },
  "cells": [
    {
      "cell_type": "code",
      "source": [
        "def addition(a, b):\n",
        "    return a + b\n",
        "\n",
        "def subtraction(a, b):\n",
        "    return a - b\n",
        "\n",
        "\n",
        "def multiplication(a, b):\n",
        "    return a * b\n",
        "\n",
        "\n",
        "def division(a, b):\n",
        "    return a / b if b != 0 else \"Error: Division by zero\"\n",
        "\n",
        "\n",
        "print(\"Choose an operation:\")\n",
        "print(\"1. Addition\")\n",
        "print(\"2. Subtraction\")\n",
        "print(\"3. Multiplication\")\n",
        "print(\"4. Division\")\n",
        "\n",
        "choice = input(\"Input your choice(1/2/3/4): \")\n",
        "\n",
        "\n",
        "if choice in ('1', '2', '3', '4'):\n",
        "    num_one = float(input(\"Enter first number: \"))\n",
        "    num_two = float(input(\"Enter second number: \"))\n",
        "\n",
        "\n",
        "    if choice == '1':\n",
        "        print(\"Result:\", addition(num_one, num_two))\n",
        "    elif choice == '2':\n",
        "        print(\"Result:\", subtraction(num_one, num_two))\n",
        "    elif choice == '3':\n",
        "        print(\"Result:\", multiplication(num_one, num_two))\n",
        "    elif choice == '4':\n",
        "        print(\"Result:\", division(num_one, num_two))\n",
        "else:\n",
        "    print(\"Invalid choice! Please select a valid operation.\")"
      ],
      "metadata": {
        "colab": {
          "base_uri": "https://localhost:8080/"
        },
        "id": "z0WNEknoK9g5",
        "outputId": "5f9fcd37-756b-4638-bae3-8c0779cf4a84"
      },
      "execution_count": 12,
      "outputs": [
        {
          "output_type": "stream",
          "name": "stdout",
          "text": [
            "Choose an operation:\n",
            "1. Addition\n",
            "2. Subtraction\n",
            "3. Multiplication\n",
            "4. Division\n",
            "Input your choice(1/2/3/4): 1\n",
            "Enter first number: 23\n",
            "Enter second number: 11\n",
            "Result: 34.0\n"
          ]
        }
      ]
    }
  ]
}